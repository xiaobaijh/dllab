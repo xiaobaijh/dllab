{
 "cells": [
  {
   "cell_type": "code",
   "execution_count": null,
   "metadata": {},
   "outputs": [],
   "source": [
    "from model import NeuralNetwork\n",
    "from utils import load_mnist_data, CrossEntropyLoss\n",
    "from activation import ReLU,LeakyReLU, Tanh\n",
    "from optimizer import MiniBatchGradientDescent\n",
    "from visualize import plot_training_history, plot_confusion_matrix, plot_misclassified_examples\n",
    "import numpy as np\n",
    "import matplotlib.pyplot as plt"
   ]
  },
  {
   "cell_type": "code",
   "execution_count": null,
   "metadata": {},
   "outputs": [],
   "source": [
    "X_train, X_val, X_test, y_train, y_val, y_test = load_mnist_data()\n",
    "input_dim = 784\n",
    "output_dim = 10\n",
    "baseline = NeuralNetwork(input_dim, output_dim, hidden_dims=[256,128], activation=ReLU(),lammbda=1e-4)\n",
    "baseline1 = NeuralNetwork(input_dim, output_dim, hidden_dims=[512,256], activation=LeakyReLU(),lammbda=1e-3)\n",
    "baseline2 = NeuralNetwork(input_dim, output_dim, hidden_dims=[128], activation=Tanh(),lammbda=0)\n",
    "\n",
    "optimizer = MiniBatchGradientDescent(learning_rate=0.02, batch_size=32)\n",
    "loss = CrossEntropyLoss()\n",
    "baseline2.compile(loss, optimizer)"
   ]
  },
  {
   "cell_type": "code",
   "execution_count": null,
   "metadata": {},
   "outputs": [],
   "source": [
    "import os\n",
    "import time\n",
    "from datetime import datetime\n",
    "\n",
    "# 训练模型\n",
    "history = baseline2.fit(X_train, y_train, epochs=100, X_val=X_val, y_val=y_val, verbose=1)\n",
    "\n",
    "# Create a directory for this run\n",
    "run_time = datetime.now().strftime(\"%Y%m%d_%H%M%S\")\n",
    "run_dir = os.path.join('runs', f'run_{run_time}')\n",
    "os.makedirs(run_dir, exist_ok=True)\n",
    "\n",
    "# Plot and save training history\n",
    "history_path = os.path.join(run_dir, 'training_history.png')\n",
    "plot_training_history(baseline2.history, save_path=history_path)\n",
    "print(f\"Training history plot saved to {history_path}\")\n",
    "\n",
    "# Evaluate the model on the test set\n",
    "test_loss, test_acc = baseline2.evaluate(X_test, y_test)\n",
    "print(f\"Test loss: {test_loss:.4f}\")\n",
    "print(f\"Test accuracy: {test_acc:.4f}\")\n",
    "\n",
    "# Also save the training metrics as a text file\n",
    "with open(os.path.join(run_dir, 'training_metrics.txt'), 'w') as f:\n",
    "    f.write(f\"Final training accuracy: {baseline1.history['train_acc'][-1]:.4f}\\n\")\n",
    "    f.write(f\"Final validation accuracy: {baseline1.history['val_acc'][-1]:.4f}\\n\")\n",
    "    f.write(f\"Final training loss: {baseline1.history['train_loss'][-1]:.4f}\\n\")\n",
    "    f.write(f\"Final validation loss: {baseline1.history['val_loss'][-1]:.4f}\\n\")\n",
    "    f.write(f\"Test loss: {test_loss:.4f}\\n\")\n",
    "    f.write(f\"Test accuracy: {test_acc:.4f}\\n\")\n",
    "\n",
    "\n",
    "y_pred_probs = baseline2.predict(X_test)  # 获取预测概率\n",
    "y_pred = np.argmax(y_pred_probs, axis=1)  # 将概率转换为类别标签\n",
    "y_true = np.argmax(y_test, axis=1)  # 将one-hot编码的真实标签转换为类别标签\n",
    "\n",
    "# 2. 可视化混淆矩阵\n",
    "plot_confusion_matrix(y_true, y_pred, class_names=list(range(10)), normalize=False)\n",
    "plot_confusion_matrix(y_true, y_pred, class_names=list(range(10)), normalize=True)\n",
    "\n",
    "# 3. 可视化错误分类样本\n",
    "plot_misclassified_examples(X_test, y_true, y_pred, class_names=list(range(10)))"
   ]
  }
 ],
 "metadata": {
  "kernelspec": {
   "display_name": "wjhRL",
   "language": "python",
   "name": "python3"
  },
  "language_info": {
   "codemirror_mode": {
    "name": "ipython",
    "version": 3
   },
   "file_extension": ".py",
   "mimetype": "text/x-python",
   "name": "python",
   "nbconvert_exporter": "python",
   "pygments_lexer": "ipython3",
   "version": "3.10.13"
  }
 },
 "nbformat": 4,
 "nbformat_minor": 2
}
